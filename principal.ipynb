{
 "cells": [
  {
   "cell_type": "code",
   "execution_count": null,
   "metadata": {},
   "outputs": [],
   "source": [
    "import guia\n",
    "\n",
    "# Deixe como True para exibir as equações formatadas em LaTeX\n",
    "# (só para notebooks como Jupyter, Visual Code, PyCharm, Google Colab, etc.).\n",
    "# Deixe como False para rodar no terminal ou com mais rapidez.\n",
    "latex = True\n",
    "\n",
    "# Recebe os momentos individuais\n",
    "'''\n",
    "Os valores de j1 e j2 devem ser escritos como uma string.\n",
    "Vale lembrar que os valores devem ser inteiros ou semi-inteiros (n/2, onde n é um inteiro qualquer).\n",
    "''' \n",
    "j1, j2 = \"1\", \"1\"\n",
    "\n",
    "guia.calcula(j1, j2, latex)"
   ]
  }
 ],
 "metadata": {
  "interpreter": {
   "hash": "b3ba2566441a7c06988d0923437866b63cedc61552a5af99d1f4fb67d367b25f"
  },
  "kernelspec": {
   "display_name": "Python 3.8.8 ('base')",
   "language": "python",
   "name": "python3"
  },
  "language_info": {
   "codemirror_mode": {
    "name": "ipython",
    "version": 3
   },
   "file_extension": ".py",
   "mimetype": "text/x-python",
   "name": "python",
   "nbconvert_exporter": "python",
   "pygments_lexer": "ipython3",
   "version": "3.8.8"
  },
  "orig_nbformat": 4
 },
 "nbformat": 4,
 "nbformat_minor": 2
}
